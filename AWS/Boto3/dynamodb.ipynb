{
 "cells": [
  {
   "cell_type": "code",
   "execution_count": 34,
   "metadata": {},
   "outputs": [],
   "source": [
    "import boto3"
   ]
  },
  {
   "cell_type": "code",
   "execution_count": 35,
   "metadata": {},
   "outputs": [],
   "source": [
    "client = boto3.client('dynamodb',region_name='us-east-1')"
   ]
  },
  {
   "cell_type": "code",
   "execution_count": 36,
   "metadata": {},
   "outputs": [],
   "source": [
    "table_name = 'Movies'"
   ]
  },
  {
   "cell_type": "code",
   "execution_count": 37,
   "metadata": {},
   "outputs": [],
   "source": [
    "attributes = [\n",
    "    {\n",
    "        'AttributeName':'Title',\n",
    "        'AttributeType':'S'\n",
    "    },\n",
    "    {\n",
    "        'AttributeName':'Rating',\n",
    "        'AttributeType':'N'\n",
    "    }\n",
    "]"
   ]
  },
  {
   "cell_type": "code",
   "execution_count": 38,
   "metadata": {},
   "outputs": [],
   "source": [
    "key_schema = [\n",
    "    {\n",
    "        'AttributeName':'Title',\n",
    "        'KeyType':'HASH'\n",
    "    },\n",
    "    {\n",
    "        'AttributeName':'Rating',\n",
    "        'KeyType':'RANGE'\n",
    "    }\n",
    "]"
   ]
  },
  {
   "cell_type": "code",
   "execution_count": 39,
   "metadata": {},
   "outputs": [],
   "source": [
    "provisioned_throughput = {\n",
    "    'ReadCapacityUnits':5,\n",
    "    'WriteCapacityUnits':5\n",
    "}"
   ]
  },
  {
   "cell_type": "code",
   "execution_count": 40,
   "metadata": {},
   "outputs": [],
   "source": [
    "response = client.create_table(TableName = table_name,\n",
    "                            AttributeDefinitions=attributes,\n",
    "                            KeySchema=key_schema,\n",
    "                            ProvisionedThroughput=provisioned_throughput\n",
    "                            )"
   ]
  },
  {
   "cell_type": "code",
   "execution_count": 41,
   "metadata": {},
   "outputs": [
    {
     "data": {
      "text/plain": [
       "{'TableDescription': {'AttributeDefinitions': [{'AttributeName': 'Rating',\n",
       "    'AttributeType': 'N'},\n",
       "   {'AttributeName': 'Title', 'AttributeType': 'S'}],\n",
       "  'TableName': 'Movies',\n",
       "  'KeySchema': [{'AttributeName': 'Title', 'KeyType': 'HASH'},\n",
       "   {'AttributeName': 'Rating', 'KeyType': 'RANGE'}],\n",
       "  'TableStatus': 'CREATING',\n",
       "  'CreationDateTime': datetime.datetime(2024, 5, 11, 16, 17, 29, 911000, tzinfo=tzlocal()),\n",
       "  'ProvisionedThroughput': {'NumberOfDecreasesToday': 0,\n",
       "   'ReadCapacityUnits': 5,\n",
       "   'WriteCapacityUnits': 5},\n",
       "  'TableSizeBytes': 0,\n",
       "  'ItemCount': 0,\n",
       "  'TableArn': 'arn:aws:dynamodb:us-east-1:767397860942:table/Movies',\n",
       "  'TableId': '91eee942-0cdf-4234-ad14-ebfd4a183d9e',\n",
       "  'DeletionProtectionEnabled': False},\n",
       " 'ResponseMetadata': {'RequestId': 'J9I2BA76O5U58B59UJT4193MMJVV4KQNSO5AEMVJF66Q9ASUAAJG',\n",
       "  'HTTPStatusCode': 200,\n",
       "  'HTTPHeaders': {'server': 'Server',\n",
       "   'date': 'Sat, 11 May 2024 21:17:29 GMT',\n",
       "   'content-type': 'application/x-amz-json-1.0',\n",
       "   'content-length': '604',\n",
       "   'connection': 'keep-alive',\n",
       "   'x-amzn-requestid': 'J9I2BA76O5U58B59UJT4193MMJVV4KQNSO5AEMVJF66Q9ASUAAJG',\n",
       "   'x-amz-crc32': '1195563509'},\n",
       "  'RetryAttempts': 0}}"
      ]
     },
     "execution_count": 41,
     "metadata": {},
     "output_type": "execute_result"
    }
   ],
   "source": [
    "response"
   ]
  },
  {
   "cell_type": "code",
   "execution_count": 42,
   "metadata": {},
   "outputs": [],
   "source": [
    "entry = {'Title':{'S':'The Matrix'},\n",
    "        'Director':{'S':'Lana Wachowski'},\n",
    "        'Year':{'N':'1999'},\n",
    "        'Rating':{'N':'5'}\n",
    "        }"
   ]
  },
  {
   "cell_type": "code",
   "execution_count": 43,
   "metadata": {},
   "outputs": [
    {
     "data": {
      "text/plain": [
       "{'ResponseMetadata': {'RequestId': '4OSPJ2Q5DGDCPP9KERO8C873LBVV4KQNSO5AEMVJF66Q9ASUAAJG',\n",
       "  'HTTPStatusCode': 200,\n",
       "  'HTTPHeaders': {'server': 'Server',\n",
       "   'date': 'Sat, 11 May 2024 21:17:45 GMT',\n",
       "   'content-type': 'application/x-amz-json-1.0',\n",
       "   'content-length': '2',\n",
       "   'connection': 'keep-alive',\n",
       "   'x-amzn-requestid': '4OSPJ2Q5DGDCPP9KERO8C873LBVV4KQNSO5AEMVJF66Q9ASUAAJG',\n",
       "   'x-amz-crc32': '2745614147'},\n",
       "  'RetryAttempts': 0}}"
      ]
     },
     "execution_count": 43,
     "metadata": {},
     "output_type": "execute_result"
    }
   ],
   "source": [
    "client.put_item(TableName='Movies',Item=entry)"
   ]
  },
  {
   "cell_type": "code",
   "execution_count": 44,
   "metadata": {},
   "outputs": [],
   "source": [
    "item_key = {'Title':{'S':'The Matrix'},\n",
    "        'Rating':{'N':'5'}\n",
    "        }"
   ]
  },
  {
   "cell_type": "code",
   "execution_count": 45,
   "metadata": {},
   "outputs": [],
   "source": [
    "response = client.get_item(TableName='Movies', Key=item_key)"
   ]
  },
  {
   "cell_type": "code",
   "execution_count": 46,
   "metadata": {},
   "outputs": [
    {
     "data": {
      "text/plain": [
       "{'Title': {'S': 'The Matrix'},\n",
       " 'Director': {'S': 'Lana Wachowski'},\n",
       " 'Year': {'N': '1999'},\n",
       " 'Rating': {'N': '5'}}"
      ]
     },
     "execution_count": 46,
     "metadata": {},
     "output_type": "execute_result"
    }
   ],
   "source": [
    "response['Item']"
   ]
  },
  {
   "cell_type": "code",
   "execution_count": 47,
   "metadata": {},
   "outputs": [],
   "source": [
    "update = 'SET Director = :r'"
   ]
  },
  {
   "cell_type": "code",
   "execution_count": 48,
   "metadata": {},
   "outputs": [
    {
     "data": {
      "text/plain": [
       "{'ResponseMetadata': {'RequestId': 'NOMOQTRP08IG2MEU1G8BJHKPGVVV4KQNSO5AEMVJF66Q9ASUAAJG',\n",
       "  'HTTPStatusCode': 200,\n",
       "  'HTTPHeaders': {'server': 'Server',\n",
       "   'date': 'Sat, 11 May 2024 21:18:12 GMT',\n",
       "   'content-type': 'application/x-amz-json-1.0',\n",
       "   'content-length': '2',\n",
       "   'connection': 'keep-alive',\n",
       "   'x-amzn-requestid': 'NOMOQTRP08IG2MEU1G8BJHKPGVVV4KQNSO5AEMVJF66Q9ASUAAJG',\n",
       "   'x-amz-crc32': '2745614147'},\n",
       "  'RetryAttempts': 0}}"
      ]
     },
     "execution_count": 48,
     "metadata": {},
     "output_type": "execute_result"
    }
   ],
   "source": [
    "client.update_item(TableName='Movies',\n",
    "                    Key=item_key,\n",
    "                    UpdateExpression=update,\n",
    "                    ExpressionAttributeValues={':r':{'S':'Lana and Lilly Wachowski'}}\n",
    "                    )"
   ]
  },
  {
   "cell_type": "code",
   "execution_count": null,
   "metadata": {},
   "outputs": [],
   "source": [
    "client.delete_item(TableName='Movies', Key=item_key)"
   ]
  },
  {
   "cell_type": "code",
   "execution_count": 49,
   "metadata": {},
   "outputs": [],
   "source": [
    "movies = [\n",
    "        {\"Title\": \"The Matrix\",\n",
    "         \"Director\": \"Lana Wachowski\",\n",
    "         \"Year\": \"1999\",\n",
    "         \"Rating\": \"4.7\"},\n",
    "    \n",
    "        {\"Title\": \"The Matrix 2\",\n",
    "             \"Director\": \"Lana Wachowski\",\n",
    "             \"Year\": \"2003\",\n",
    "             \"Rating\": \"4.6\"},\n",
    "\n",
    "        {\"Title\": \"The Matrix 3\",\n",
    "             \"Director\": \"Lana Wachowski\",\n",
    "             \"Year\": \"2003\",\n",
    "             \"Rating\": \"4.5\"},\n",
    "\n",
    "        {\"Title\": \"Inception\",\n",
    "             \"Director\": \"Christopher Nolan\",\n",
    "             \"Year\": \"2010\",\n",
    "             \"Rating\": \"4.6\"},\n",
    "    \n",
    "        {\"Title\": \"Saving Private Ryan\",\n",
    "             \"Director\": \"Steven Spielberg\",\n",
    "             \"Year\": \"1999\",\n",
    "             \"Rating\": \"4.7\"},\n",
    "\n",
    "]"
   ]
  },
  {
   "cell_type": "code",
   "execution_count": 50,
   "metadata": {},
   "outputs": [],
   "source": [
    "batch_request = []\n",
    "\n",
    "for movie in movies:\n",
    "    batch_request.append({\n",
    "        'PutRequest':{\n",
    "            'Item':{\n",
    "                'Title':{'S':movie['Title']},\n",
    "                'Rating':{'N':str(movie['Rating'])},\n",
    "                'Director':{'S':movie['Director']},\n",
    "                'Year':{'N':str(movie['Year'])}\n",
    "            }\n",
    "        }  \n",
    "  })"
   ]
  },
  {
   "cell_type": "code",
   "execution_count": 51,
   "metadata": {},
   "outputs": [
    {
     "data": {
      "text/plain": [
       "[{'PutRequest': {'Item': {'Title': {'S': 'The Matrix'},\n",
       "    'Rating': {'N': '4.7'},\n",
       "    'Director': {'S': 'Lana Wachowski'},\n",
       "    'Year': {'N': '1999'}}}},\n",
       " {'PutRequest': {'Item': {'Title': {'S': 'The Matrix 2'},\n",
       "    'Rating': {'N': '4.6'},\n",
       "    'Director': {'S': 'Lana Wachowski'},\n",
       "    'Year': {'N': '2003'}}}},\n",
       " {'PutRequest': {'Item': {'Title': {'S': 'The Matrix 3'},\n",
       "    'Rating': {'N': '4.5'},\n",
       "    'Director': {'S': 'Lana Wachowski'},\n",
       "    'Year': {'N': '2003'}}}},\n",
       " {'PutRequest': {'Item': {'Title': {'S': 'Inception'},\n",
       "    'Rating': {'N': '4.6'},\n",
       "    'Director': {'S': 'Christopher Nolan'},\n",
       "    'Year': {'N': '2010'}}}},\n",
       " {'PutRequest': {'Item': {'Title': {'S': 'Saving Private Ryan'},\n",
       "    'Rating': {'N': '4.7'},\n",
       "    'Director': {'S': 'Steven Spielberg'},\n",
       "    'Year': {'N': '1999'}}}}]"
      ]
     },
     "execution_count": 51,
     "metadata": {},
     "output_type": "execute_result"
    }
   ],
   "source": [
    "batch_request"
   ]
  },
  {
   "cell_type": "code",
   "execution_count": 52,
   "metadata": {},
   "outputs": [],
   "source": [
    "response = client.batch_write_item(RequestItems={'Movies':batch_request})"
   ]
  },
  {
   "cell_type": "code",
   "execution_count": 53,
   "metadata": {},
   "outputs": [
    {
     "data": {
      "text/plain": [
       "{'UnprocessedItems': {},\n",
       " 'ResponseMetadata': {'RequestId': '881EJ02D849H3LSNGP6PQAV11JVV4KQNSO5AEMVJF66Q9ASUAAJG',\n",
       "  'HTTPStatusCode': 200,\n",
       "  'HTTPHeaders': {'server': 'Server',\n",
       "   'date': 'Sat, 11 May 2024 21:18:36 GMT',\n",
       "   'content-type': 'application/x-amz-json-1.0',\n",
       "   'content-length': '23',\n",
       "   'connection': 'keep-alive',\n",
       "   'x-amzn-requestid': '881EJ02D849H3LSNGP6PQAV11JVV4KQNSO5AEMVJF66Q9ASUAAJG',\n",
       "   'x-amz-crc32': '4185382651'},\n",
       "  'RetryAttempts': 0}}"
      ]
     },
     "execution_count": 53,
     "metadata": {},
     "output_type": "execute_result"
    }
   ],
   "source": [
    "response"
   ]
  },
  {
   "cell_type": "code",
   "execution_count": 54,
   "metadata": {},
   "outputs": [],
   "source": [
    "batch_request_2 = {\"Keys\": []}\n",
    "for movie in movies:\n",
    "    batch_request_2[\"Keys\"].append({\n",
    "            'Title': {'S': movie['Title']},\n",
    "            'Rating': {'N': str(movie['Rating'])},\n",
    "        }\n",
    "    )"
   ]
  },
  {
   "cell_type": "code",
   "execution_count": 55,
   "metadata": {},
   "outputs": [
    {
     "data": {
      "text/plain": [
       "{'Keys': [{'Title': {'S': 'The Matrix'}, 'Rating': {'N': '4.7'}},\n",
       "  {'Title': {'S': 'The Matrix 2'}, 'Rating': {'N': '4.6'}},\n",
       "  {'Title': {'S': 'The Matrix 3'}, 'Rating': {'N': '4.5'}},\n",
       "  {'Title': {'S': 'Inception'}, 'Rating': {'N': '4.6'}},\n",
       "  {'Title': {'S': 'Saving Private Ryan'}, 'Rating': {'N': '4.7'}}]}"
      ]
     },
     "execution_count": 55,
     "metadata": {},
     "output_type": "execute_result"
    }
   ],
   "source": [
    "batch_request_2"
   ]
  },
  {
   "cell_type": "code",
   "execution_count": 56,
   "metadata": {},
   "outputs": [
    {
     "data": {
      "text/plain": [
       "{'Responses': {'Movies': [{'Title': {'S': 'Inception'},\n",
       "    'Director': {'S': 'Christopher Nolan'},\n",
       "    'Year': {'N': '2010'},\n",
       "    'Rating': {'N': '4.6'}},\n",
       "   {'Title': {'S': 'The Matrix 2'},\n",
       "    'Director': {'S': 'Lana Wachowski'},\n",
       "    'Year': {'N': '2003'},\n",
       "    'Rating': {'N': '4.6'}},\n",
       "   {'Title': {'S': 'Saving Private Ryan'},\n",
       "    'Director': {'S': 'Steven Spielberg'},\n",
       "    'Year': {'N': '1999'},\n",
       "    'Rating': {'N': '4.7'}},\n",
       "   {'Title': {'S': 'The Matrix 3'},\n",
       "    'Director': {'S': 'Lana Wachowski'},\n",
       "    'Year': {'N': '2003'},\n",
       "    'Rating': {'N': '4.5'}},\n",
       "   {'Title': {'S': 'The Matrix'},\n",
       "    'Director': {'S': 'Lana Wachowski'},\n",
       "    'Year': {'N': '1999'},\n",
       "    'Rating': {'N': '4.7'}}]},\n",
       " 'UnprocessedKeys': {},\n",
       " 'ResponseMetadata': {'RequestId': 'FD570IUFIVU12D63IGJ7153INVVV4KQNSO5AEMVJF66Q9ASUAAJG',\n",
       "  'HTTPStatusCode': 200,\n",
       "  'HTTPHeaders': {'server': 'Server',\n",
       "   'date': 'Sat, 11 May 2024 21:21:53 GMT',\n",
       "   'content-type': 'application/x-amz-json-1.0',\n",
       "   'content-length': '584',\n",
       "   'connection': 'keep-alive',\n",
       "   'x-amzn-requestid': 'FD570IUFIVU12D63IGJ7153INVVV4KQNSO5AEMVJF66Q9ASUAAJG',\n",
       "   'x-amz-crc32': '3615149067'},\n",
       "  'RetryAttempts': 0}}"
      ]
     },
     "execution_count": 56,
     "metadata": {},
     "output_type": "execute_result"
    }
   ],
   "source": [
    "client.batch_get_item(RequestItems={'Movies':batch_request_2})"
   ]
  },
  {
   "cell_type": "code",
   "execution_count": 58,
   "metadata": {},
   "outputs": [],
   "source": [
    "items = []\n",
    "response = client.scan(TableName='Movies')\n",
    "items.extend(response['Items'])\n",
    "\n",
    "while \"LastEvaluatedKey\" in response.keys():\n",
    "    response = client.scan(TableName='Movies',ExclusiveStartKey=response['LastEvaluatedKey'])\n",
    "    items.extend(response['Items'])"
   ]
  },
  {
   "cell_type": "code",
   "execution_count": 59,
   "metadata": {},
   "outputs": [
    {
     "data": {
      "text/plain": [
       "{'Items': [{'Title': {'S': 'The Matrix'},\n",
       "   'Director': {'S': 'Lana Wachowski'},\n",
       "   'Year': {'N': '1999'},\n",
       "   'Rating': {'N': '4.7'}},\n",
       "  {'Title': {'S': 'The Matrix'},\n",
       "   'Director': {'S': 'Lana and Lilly Wachowski'},\n",
       "   'Year': {'N': '1999'},\n",
       "   'Rating': {'N': '5'}},\n",
       "  {'Title': {'S': 'Inception'},\n",
       "   'Director': {'S': 'Christopher Nolan'},\n",
       "   'Year': {'N': '2010'},\n",
       "   'Rating': {'N': '4.6'}},\n",
       "  {'Title': {'S': 'The Matrix 3'},\n",
       "   'Director': {'S': 'Lana Wachowski'},\n",
       "   'Year': {'N': '2003'},\n",
       "   'Rating': {'N': '4.5'}},\n",
       "  {'Title': {'S': 'Saving Private Ryan'},\n",
       "   'Director': {'S': 'Steven Spielberg'},\n",
       "   'Year': {'N': '1999'},\n",
       "   'Rating': {'N': '4.7'}},\n",
       "  {'Title': {'S': 'The Matrix 2'},\n",
       "   'Director': {'S': 'Lana Wachowski'},\n",
       "   'Year': {'N': '2003'},\n",
       "   'Rating': {'N': '4.6'}}],\n",
       " 'Count': 6,\n",
       " 'ScannedCount': 6,\n",
       " 'ResponseMetadata': {'RequestId': '1S3E40PI61HKHT6380RBE101R3VV4KQNSO5AEMVJF66Q9ASUAAJG',\n",
       "  'HTTPStatusCode': 200,\n",
       "  'HTTPHeaders': {'server': 'Server',\n",
       "   'date': 'Sat, 11 May 2024 21:27:02 GMT',\n",
       "   'content-type': 'application/x-amz-json-1.0',\n",
       "   'content-length': '687',\n",
       "   'connection': 'keep-alive',\n",
       "   'x-amzn-requestid': '1S3E40PI61HKHT6380RBE101R3VV4KQNSO5AEMVJF66Q9ASUAAJG',\n",
       "   'x-amz-crc32': '744054129'},\n",
       "  'RetryAttempts': 0}}"
      ]
     },
     "execution_count": 59,
     "metadata": {},
     "output_type": "execute_result"
    }
   ],
   "source": [
    "response"
   ]
  },
  {
   "cell_type": "code",
   "execution_count": 60,
   "metadata": {},
   "outputs": [
    {
     "data": {
      "text/plain": [
       "{'Items': [{'Title': {'S': 'The Matrix'},\n",
       "   'Director': {'S': 'Lana Wachowski'},\n",
       "   'Year': {'N': '1999'},\n",
       "   'Rating': {'N': '4.7'}},\n",
       "  {'Title': {'S': 'The Matrix'},\n",
       "   'Director': {'S': 'Lana and Lilly Wachowski'},\n",
       "   'Year': {'N': '1999'},\n",
       "   'Rating': {'N': '5'}},\n",
       "  {'Title': {'S': 'Saving Private Ryan'},\n",
       "   'Director': {'S': 'Steven Spielberg'},\n",
       "   'Year': {'N': '1999'},\n",
       "   'Rating': {'N': '4.7'}}],\n",
       " 'Count': 3,\n",
       " 'ScannedCount': 6,\n",
       " 'ResponseMetadata': {'RequestId': 'RD4DL128POUSG3QG1H9B2NDKR7VV4KQNSO5AEMVJF66Q9ASUAAJG',\n",
       "  'HTTPStatusCode': 200,\n",
       "  'HTTPHeaders': {'server': 'Server',\n",
       "   'date': 'Sat, 11 May 2024 21:31:12 GMT',\n",
       "   'content-type': 'application/x-amz-json-1.0',\n",
       "   'content-length': '369',\n",
       "   'connection': 'keep-alive',\n",
       "   'x-amzn-requestid': 'RD4DL128POUSG3QG1H9B2NDKR7VV4KQNSO5AEMVJF66Q9ASUAAJG',\n",
       "   'x-amz-crc32': '3134383722'},\n",
       "  'RetryAttempts': 0}}"
      ]
     },
     "execution_count": 60,
     "metadata": {},
     "output_type": "execute_result"
    }
   ],
   "source": [
    "client.scan(TableName=\"Movies\",\n",
    "            FilterExpression=\"Rating >= :num\", \n",
    "            ExpressionAttributeValues={\":num\":{\"N\":\"4.7\"}} \n",
    "            )"
   ]
  },
  {
   "cell_type": "code",
   "execution_count": 64,
   "metadata": {},
   "outputs": [],
   "source": [
    "dynamodb = boto3.resource('dynamodb')\n",
    "table = dynamodb.Table('Movies')"
   ]
  },
  {
   "cell_type": "code",
   "execution_count": 65,
   "metadata": {},
   "outputs": [],
   "source": [
    "from boto3.dynamodb.conditions import Key, Attr"
   ]
  },
  {
   "cell_type": "code",
   "execution_count": 67,
   "metadata": {},
   "outputs": [
    {
     "data": {
      "text/plain": [
       "{'Items': [{'Title': 'Inception',\n",
       "   'Director': 'Christopher Nolan',\n",
       "   'Year': Decimal('2010'),\n",
       "   'Rating': Decimal('4.6')},\n",
       "  {'Title': 'The Matrix 3',\n",
       "   'Director': 'Lana Wachowski',\n",
       "   'Year': Decimal('2003'),\n",
       "   'Rating': Decimal('4.5')},\n",
       "  {'Title': 'The Matrix 2',\n",
       "   'Director': 'Lana Wachowski',\n",
       "   'Year': Decimal('2003'),\n",
       "   'Rating': Decimal('4.6')}],\n",
       " 'Count': 3,\n",
       " 'ScannedCount': 6,\n",
       " 'ResponseMetadata': {'RequestId': 'VGCJC0S7RVINC8SQLLJAIKF8F3VV4KQNSO5AEMVJF66Q9ASUAAJG',\n",
       "  'HTTPStatusCode': 200,\n",
       "  'HTTPHeaders': {'server': 'Server',\n",
       "   'date': 'Sat, 11 May 2024 21:37:17 GMT',\n",
       "   'content-type': 'application/x-amz-json-1.0',\n",
       "   'content-length': '356',\n",
       "   'connection': 'keep-alive',\n",
       "   'x-amzn-requestid': 'VGCJC0S7RVINC8SQLLJAIKF8F3VV4KQNSO5AEMVJF66Q9ASUAAJG',\n",
       "   'x-amz-crc32': '4234851820'},\n",
       "  'RetryAttempts': 0}}"
      ]
     },
     "execution_count": 67,
     "metadata": {},
     "output_type": "execute_result"
    }
   ],
   "source": [
    "table.scan(FilterExpression=Attr(\"Year\").gte(2003))"
   ]
  },
  {
   "cell_type": "code",
   "execution_count": 68,
   "metadata": {},
   "outputs": [],
   "source": [
    "attributes.append({\"AttributeName\":\"Director\",'AttributeType':'S'})"
   ]
  },
  {
   "cell_type": "code",
   "execution_count": 69,
   "metadata": {},
   "outputs": [
    {
     "data": {
      "text/plain": [
       "[{'AttributeName': 'Title', 'AttributeType': 'S'},\n",
       " {'AttributeName': 'Rating', 'AttributeType': 'N'},\n",
       " {'AttributeName': 'Director', 'AttributeType': 'S'}]"
      ]
     },
     "execution_count": 69,
     "metadata": {},
     "output_type": "execute_result"
    }
   ],
   "source": [
    "attributes"
   ]
  },
  {
   "cell_type": "code",
   "execution_count": 73,
   "metadata": {},
   "outputs": [],
   "source": [
    "gsi_key_schema = [\n",
    "    {\n",
    "        'AttributeName':'Director',\n",
    "        'KeyType':'HASH'\n",
    "    }\n",
    "]"
   ]
  },
  {
   "cell_type": "code",
   "execution_count": 74,
   "metadata": {},
   "outputs": [],
   "source": [
    "gsi_provisioned_throughput = {\n",
    "    'ReadCapacityUnits': 5,\n",
    "    'WriteCapacityUnits': 5\n",
    "}"
   ]
  },
  {
   "cell_type": "code",
   "execution_count": 75,
   "metadata": {},
   "outputs": [],
   "source": [
    "response = client.update_table(\n",
    "    TableName=\"Movies\",\n",
    "    AttributeDefinitions=attributes,\n",
    "    GlobalSecondaryIndexUpdates=[\n",
    "        {\n",
    "            'Create': {  \n",
    "                'IndexName': \"idx1\",  \n",
    "                'KeySchema': gsi_key_schema,\n",
    "                'Projection': {\n",
    "                    'ProjectionType': 'ALL'  \n",
    "                },\n",
    "                'ProvisionedThroughput': gsi_provisioned_throughput\n",
    "            }\n",
    "        }\n",
    "    ]\n",
    ")"
   ]
  },
  {
   "cell_type": "code",
   "execution_count": 77,
   "metadata": {},
   "outputs": [
    {
     "data": {
      "text/plain": [
       "{'TableDescription': {'AttributeDefinitions': [{'AttributeName': 'Director',\n",
       "    'AttributeType': 'S'},\n",
       "   {'AttributeName': 'Rating', 'AttributeType': 'N'},\n",
       "   {'AttributeName': 'Title', 'AttributeType': 'S'}],\n",
       "  'TableName': 'Movies',\n",
       "  'KeySchema': [{'AttributeName': 'Title', 'KeyType': 'HASH'},\n",
       "   {'AttributeName': 'Rating', 'KeyType': 'RANGE'}],\n",
       "  'TableStatus': 'UPDATING',\n",
       "  'CreationDateTime': datetime.datetime(2024, 5, 11, 16, 17, 29, 911000, tzinfo=tzlocal()),\n",
       "  'ProvisionedThroughput': {'NumberOfDecreasesToday': 0,\n",
       "   'ReadCapacityUnits': 5,\n",
       "   'WriteCapacityUnits': 5},\n",
       "  'TableSizeBytes': 0,\n",
       "  'ItemCount': 0,\n",
       "  'TableArn': 'arn:aws:dynamodb:us-east-1:767397860942:table/Movies',\n",
       "  'TableId': '91eee942-0cdf-4234-ad14-ebfd4a183d9e',\n",
       "  'GlobalSecondaryIndexes': [{'IndexName': 'idx1',\n",
       "    'KeySchema': [{'AttributeName': 'Director', 'KeyType': 'HASH'}],\n",
       "    'Projection': {'ProjectionType': 'ALL'},\n",
       "    'IndexStatus': 'CREATING',\n",
       "    'Backfilling': False,\n",
       "    'ProvisionedThroughput': {'NumberOfDecreasesToday': 0,\n",
       "     'ReadCapacityUnits': 5,\n",
       "     'WriteCapacityUnits': 5},\n",
       "    'IndexSizeBytes': 0,\n",
       "    'ItemCount': 0,\n",
       "    'IndexArn': 'arn:aws:dynamodb:us-east-1:767397860942:table/Movies/index/idx1'}],\n",
       "  'DeletionProtectionEnabled': False},\n",
       " 'ResponseMetadata': {'RequestId': '99GGCHCV4BADSJBSI441KC0M8JVV4KQNSO5AEMVJF66Q9ASUAAJG',\n",
       "  'HTTPStatusCode': 200,\n",
       "  'HTTPHeaders': {'server': 'Server',\n",
       "   'date': 'Sat, 11 May 2024 21:49:52 GMT',\n",
       "   'content-type': 'application/x-amz-json-1.0',\n",
       "   'content-length': '1052',\n",
       "   'connection': 'keep-alive',\n",
       "   'x-amzn-requestid': '99GGCHCV4BADSJBSI441KC0M8JVV4KQNSO5AEMVJF66Q9ASUAAJG',\n",
       "   'x-amz-crc32': '3078893094'},\n",
       "  'RetryAttempts': 0}}"
      ]
     },
     "execution_count": 77,
     "metadata": {},
     "output_type": "execute_result"
    }
   ],
   "source": [
    "response"
   ]
  },
  {
   "cell_type": "code",
   "execution_count": 78,
   "metadata": {},
   "outputs": [
    {
     "data": {
      "text/plain": [
       "{'Items': [{'Title': {'S': 'The Matrix 2'},\n",
       "   'Director': {'S': 'Lana Wachowski'},\n",
       "   'Year': {'N': '2003'},\n",
       "   'Rating': {'N': '4.6'}},\n",
       "  {'Title': {'S': 'The Matrix 3'},\n",
       "   'Director': {'S': 'Lana Wachowski'},\n",
       "   'Year': {'N': '2003'},\n",
       "   'Rating': {'N': '4.5'}},\n",
       "  {'Title': {'S': 'The Matrix'},\n",
       "   'Director': {'S': 'Lana Wachowski'},\n",
       "   'Year': {'N': '1999'},\n",
       "   'Rating': {'N': '4.7'}}],\n",
       " 'Count': 3,\n",
       " 'ScannedCount': 3,\n",
       " 'ResponseMetadata': {'RequestId': 'KGPECR1CKLO5RJQ2J2GK8RDFA3VV4KQNSO5AEMVJF66Q9ASUAAJG',\n",
       "  'HTTPStatusCode': 200,\n",
       "  'HTTPHeaders': {'server': 'Server',\n",
       "   'date': 'Sat, 11 May 2024 22:12:41 GMT',\n",
       "   'content-type': 'application/x-amz-json-1.0',\n",
       "   'content-length': '354',\n",
       "   'connection': 'keep-alive',\n",
       "   'x-amzn-requestid': 'KGPECR1CKLO5RJQ2J2GK8RDFA3VV4KQNSO5AEMVJF66Q9ASUAAJG',\n",
       "   'x-amz-crc32': '750746483'},\n",
       "  'RetryAttempts': 0}}"
      ]
     },
     "execution_count": 78,
     "metadata": {},
     "output_type": "execute_result"
    }
   ],
   "source": [
    "client.query(TableName=\"Movies\",\n",
    "             KeyConditionExpression='Director = :d',\n",
    "             IndexName='idx1',\n",
    "            ExpressionAttributeValues={':d': {'S': \"Lana Wachowski\"}}\n",
    ")"
   ]
  },
  {
   "cell_type": "code",
   "execution_count": 79,
   "metadata": {},
   "outputs": [
    {
     "data": {
      "text/plain": [
       "{'TableDescription': {'TableName': 'Movies',\n",
       "  'TableStatus': 'DELETING',\n",
       "  'ProvisionedThroughput': {'NumberOfDecreasesToday': 0,\n",
       "   'ReadCapacityUnits': 5,\n",
       "   'WriteCapacityUnits': 5},\n",
       "  'TableSizeBytes': 0,\n",
       "  'ItemCount': 0,\n",
       "  'TableArn': 'arn:aws:dynamodb:us-east-1:767397860942:table/Movies',\n",
       "  'TableId': '91eee942-0cdf-4234-ad14-ebfd4a183d9e',\n",
       "  'DeletionProtectionEnabled': False},\n",
       " 'ResponseMetadata': {'RequestId': 'FUBMJ0O1NPJN5P9GJBVUNR9NK7VV4KQNSO5AEMVJF66Q9ASUAAJG',\n",
       "  'HTTPStatusCode': 200,\n",
       "  'HTTPHeaders': {'server': 'Server',\n",
       "   'date': 'Sat, 11 May 2024 22:18:31 GMT',\n",
       "   'content-type': 'application/x-amz-json-1.0',\n",
       "   'content-length': '348',\n",
       "   'connection': 'keep-alive',\n",
       "   'x-amzn-requestid': 'FUBMJ0O1NPJN5P9GJBVUNR9NK7VV4KQNSO5AEMVJF66Q9ASUAAJG',\n",
       "   'x-amz-crc32': '3179212061'},\n",
       "  'RetryAttempts': 0}}"
      ]
     },
     "execution_count": 79,
     "metadata": {},
     "output_type": "execute_result"
    }
   ],
   "source": [
    "client.delete_table(TableName=\"Movies\")"
   ]
  },
  {
   "cell_type": "code",
   "execution_count": 83,
   "metadata": {},
   "outputs": [],
   "source": [
    "table_name = \"Movies\"\n",
    "attributes = [\n",
    "    {\n",
    "        \"AttributeName\": \"Title\",\n",
    "        \"AttributeType\" : \"S\"  # String\n",
    "    },\n",
    "\n",
    "    {\n",
    "        \"AttributeName\": \"Rating\",\n",
    "        \"AttributeType\" : \"N\"  # Number\n",
    "    },\n",
    "    \n",
    "    {\n",
    "        \"AttributeName\": \"Director\",  # Note that this is not part of the key schema\n",
    "        \"AttributeType\" : \"S\"  # String\n",
    "    },\n",
    "\n",
    "\n",
    "]\n",
    "\n",
    "key_schema = [\n",
    "    {\n",
    "        'AttributeName': 'Title',\n",
    "        'KeyType': 'HASH'  # Hash Key for Primary Key\n",
    "    },\n",
    "    {\n",
    "        'AttributeName': 'Rating',\n",
    "        'KeyType': 'RANGE'  # Range key for sorting\n",
    "    }\n",
    "]\n",
    "\n",
    "provisioned_throughput = {\n",
    "    'ReadCapacityUnits': 10,\n",
    "    'WriteCapacityUnits': 10\n",
    "}\n"
   ]
  },
  {
   "cell_type": "code",
   "execution_count": 84,
   "metadata": {},
   "outputs": [],
   "source": [
    "response = client.create_table(\n",
    "        TableName=table_name,\n",
    "        AttributeDefinitions=attributes,\n",
    "        KeySchema=key_schema,\n",
    "        ProvisionedThroughput=provisioned_throughput,\n",
    "        GlobalSecondaryIndexes=[\n",
    "        {\n",
    "            'IndexName': 'idx1',  # The name of the global secondary index. Must be unique only for this table.\n",
    "            'KeySchema': [\n",
    "               {\n",
    "                  'AttributeName': 'Director',\n",
    "                  'KeyType': 'HASH'\n",
    "               }\n",
    "             ],\n",
    "             'Projection': {\n",
    "               'ProjectionType': 'ALL'  # Project all information\n",
    "             },\n",
    "             'ProvisionedThroughput': {\n",
    "                  'ReadCapacityUnits': 10,\n",
    "                  'WriteCapacityUnits': 10\n",
    "             }\n",
    "        }\n",
    "    ],\n",
    "\n",
    ")"
   ]
  },
  {
   "cell_type": "code",
   "execution_count": 85,
   "metadata": {},
   "outputs": [],
   "source": [
    "movies = [\n",
    "        {\"Title\": \"The Matrix\",\n",
    "         \"Director\": \"Lana Wachowski\",\n",
    "         \"Year\": \"1999\",\n",
    "         \"Rating\": \"4.7\"},\n",
    "    \n",
    "        {\"Title\": \"The Matrix 2\",\n",
    "             \"Director\": \"Lana Wachowski\",\n",
    "             \"Year\": \"2003\",\n",
    "             \"Rating\": \"4.6\"},\n",
    "\n",
    "        {\"Title\": \"The Matrix 3\",\n",
    "             \"Director\": \"Lana Wachowski\",\n",
    "             \"Year\": \"2003\",\n",
    "             \"Rating\": \"4.5\"},\n",
    "\n",
    "        {\"Title\": \"Inception\",\n",
    "             \"Director\": \"Christopher Nolan\",\n",
    "             \"Year\": \"2010\",\n",
    "             \"Rating\": \"4.6\"},\n",
    "    \n",
    "        {\"Title\": \"Saving Private Ryan\",\n",
    "             \"Director\": \"Steven Spielberg\",\n",
    "             \"Year\": \"1999\",\n",
    "             \"Rating\": \"4.7\"},\n",
    "\n",
    "]\n",
    "\n",
    "batch_request = []\n",
    "for movie in movies:\n",
    "    batch_request.append({\n",
    "        'PutRequest': {\n",
    "            'Item': {\n",
    "                'Title': {'S': movie['Title']},\n",
    "                'Rating': {'N': str(movie['Rating'])},\n",
    "                'Director': {'S': movie['Director']},\n",
    "                'Year': {'N': str(movie['Year'])}\n",
    "            }\n",
    "        }\n",
    "    })\n",
    "\n",
    "\n",
    "response = client.batch_write_item(\n",
    "    RequestItems={\n",
    "        \"Movies\": batch_request\n",
    "    }\n",
    ")\n"
   ]
  },
  {
   "cell_type": "code",
   "execution_count": 86,
   "metadata": {},
   "outputs": [
    {
     "data": {
      "text/plain": [
       "{'Items': [{'Title': {'S': 'The Matrix 2'},\n",
       "   'Director': {'S': 'Lana Wachowski'},\n",
       "   'Year': {'N': '2003'},\n",
       "   'Rating': {'N': '4.6'}},\n",
       "  {'Title': {'S': 'The Matrix 3'},\n",
       "   'Director': {'S': 'Lana Wachowski'},\n",
       "   'Year': {'N': '2003'},\n",
       "   'Rating': {'N': '4.5'}},\n",
       "  {'Title': {'S': 'The Matrix'},\n",
       "   'Director': {'S': 'Lana Wachowski'},\n",
       "   'Year': {'N': '1999'},\n",
       "   'Rating': {'N': '4.7'}}],\n",
       " 'Count': 3,\n",
       " 'ScannedCount': 3,\n",
       " 'ResponseMetadata': {'RequestId': '819TGQS3AL4GJFI55VNL9O19GJVV4KQNSO5AEMVJF66Q9ASUAAJG',\n",
       "  'HTTPStatusCode': 200,\n",
       "  'HTTPHeaders': {'server': 'Server',\n",
       "   'date': 'Sat, 11 May 2024 22:26:57 GMT',\n",
       "   'content-type': 'application/x-amz-json-1.0',\n",
       "   'content-length': '354',\n",
       "   'connection': 'keep-alive',\n",
       "   'x-amzn-requestid': '819TGQS3AL4GJFI55VNL9O19GJVV4KQNSO5AEMVJF66Q9ASUAAJG',\n",
       "   'x-amz-crc32': '750746483'},\n",
       "  'RetryAttempts': 0}}"
      ]
     },
     "execution_count": 86,
     "metadata": {},
     "output_type": "execute_result"
    }
   ],
   "source": [
    "client.query(TableName=\"Movies\",\n",
    "             KeyConditionExpression='Director = :d',\n",
    "             IndexName='idx1',\n",
    "            ExpressionAttributeValues={':d': {'S': \"Lana Wachowski\"}}\n",
    ")"
   ]
  },
  {
   "cell_type": "code",
   "execution_count": 88,
   "metadata": {},
   "outputs": [
    {
     "data": {
      "text/plain": [
       "{'TableDescription': {'TableName': 'Movies',\n",
       "  'TableStatus': 'DELETING',\n",
       "  'ProvisionedThroughput': {'NumberOfDecreasesToday': 0,\n",
       "   'ReadCapacityUnits': 10,\n",
       "   'WriteCapacityUnits': 10},\n",
       "  'TableSizeBytes': 0,\n",
       "  'ItemCount': 0,\n",
       "  'TableArn': 'arn:aws:dynamodb:us-east-1:767397860942:table/Movies',\n",
       "  'TableId': '05d5eb0d-fdfc-48d1-8b09-2cbee16b449e',\n",
       "  'DeletionProtectionEnabled': False},\n",
       " 'ResponseMetadata': {'RequestId': 'R5S8GQHKN4SBFVV6R2NHKT61HFVV4KQNSO5AEMVJF66Q9ASUAAJG',\n",
       "  'HTTPStatusCode': 200,\n",
       "  'HTTPHeaders': {'server': 'Server',\n",
       "   'date': 'Sat, 11 May 2024 22:31:55 GMT',\n",
       "   'content-type': 'application/x-amz-json-1.0',\n",
       "   'content-length': '350',\n",
       "   'connection': 'keep-alive',\n",
       "   'x-amzn-requestid': 'R5S8GQHKN4SBFVV6R2NHKT61HFVV4KQNSO5AEMVJF66Q9ASUAAJG',\n",
       "   'x-amz-crc32': '3888747027'},\n",
       "  'RetryAttempts': 0}}"
      ]
     },
     "execution_count": 88,
     "metadata": {},
     "output_type": "execute_result"
    }
   ],
   "source": [
    "client.delete_table(TableName='Movies')"
   ]
  }
 ],
 "metadata": {
  "kernelspec": {
   "display_name": "Python 3",
   "language": "python",
   "name": "python3"
  },
  "language_info": {
   "codemirror_mode": {
    "name": "ipython",
    "version": 3
   },
   "file_extension": ".py",
   "mimetype": "text/x-python",
   "name": "python",
   "nbconvert_exporter": "python",
   "pygments_lexer": "ipython3",
   "version": "3.12.3"
  }
 },
 "nbformat": 4,
 "nbformat_minor": 2
}
