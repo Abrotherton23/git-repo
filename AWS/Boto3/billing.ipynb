{
 "cells": [
  {
   "cell_type": "code",
   "execution_count": 2,
   "metadata": {},
   "outputs": [],
   "source": [
    "import boto3\n",
    "\n",
    "client = boto3.client('ce')"
   ]
  },
  {
   "cell_type": "code",
   "execution_count": 3,
   "metadata": {},
   "outputs": [
    {
     "data": {
      "text/plain": [
       "'2024-02-09'"
      ]
     },
     "execution_count": 3,
     "metadata": {},
     "output_type": "execute_result"
    }
   ],
   "source": [
    "# START\n",
    "from datetime import datetime, timedelta\n",
    "start_date = (datetime.now() - timedelta(days=90)).strftime('%Y-%m-%d')\n",
    "start_date"
   ]
  },
  {
   "cell_type": "code",
   "execution_count": 4,
   "metadata": {},
   "outputs": [
    {
     "data": {
      "text/plain": [
       "'2024-05-09'"
      ]
     },
     "execution_count": 4,
     "metadata": {},
     "output_type": "execute_result"
    }
   ],
   "source": [
    "#CE start-date --> end_date\n",
    "end_date = datetime.now().strftime('%Y-%m-%d')\n",
    "end_date"
   ]
  },
  {
   "cell_type": "code",
   "execution_count": null,
   "metadata": {},
   "outputs": [],
   "source": [
    "response = client.get_cost_and_usage(TimePeriod={\n",
    "    'Start':start_date,\n",
    "    'End' :end_date\n",
    "},Granularity='MONTHLY',Metrics=['UnblendedCost','UsageQuantity'])\n",
    "for item in response['ResultsByTime']:\n",
    "    print(item['Total']['UnblendedCost'])\n",
    "    print('\\n\\n')"
   ]
  },
  {
   "cell_type": "code",
   "execution_count": null,
   "metadata": {},
   "outputs": [],
   "source": [
    "response = client.get_dimension_values(TimePeriod={\n",
    "    'Start':start_date,\n",
    "    'End' :end_date},\n",
    "    Dimension='SERVICE')\n",
    "response"
   ]
  },
  {
   "cell_type": "code",
   "execution_count": 19,
   "metadata": {},
   "outputs": [
    {
     "name": "stdout",
     "output_type": "stream",
     "text": [
      "AWS Key Management Service\n",
      "AWS Lambda\n",
      "AWS X-Ray\n",
      "EC2 - Other\n",
      "Amazon Elastic Compute Cloud - Compute\n",
      "Amazon Simple Notification Service\n",
      "Amazon Simple Queue Service\n",
      "Amazon Simple Storage Service\n",
      "Amazon Virtual Private Cloud\n",
      "AmazonCloudWatch\n",
      "Tax\n"
     ]
    }
   ],
   "source": [
    "for service in response['DimensionValues']:\n",
    "    print(service['Value'])"
   ]
  },
  {
   "cell_type": "code",
   "execution_count": null,
   "metadata": {},
   "outputs": [],
   "source": []
  },
  {
   "cell_type": "code",
   "execution_count": null,
   "metadata": {},
   "outputs": [],
   "source": [
    "response = client.get_cost_and_usage(\n",
    "TimePeriod= {'Start':start_date,\n",
    "             'End':end_date},\n",
    "Granularity='MONTHLY',\n",
    "Metrics=['UnblendedCost'],\n",
    "GroupBy=[\n",
    "    {\n",
    "        'Type' :'DIMENSION',\n",
    "        'Key' :'SERVICE'\n",
    "    }\n",
    "]\n",
    ")\n"
   ]
  },
  {
   "cell_type": "code",
   "execution_count": null,
   "metadata": {},
   "outputs": [],
   "source": [
    "for item in response['ResultsByTime']:\n",
    "    print(item['TimePeriod'])\n",
    "    print('\\n')\n",
    "    for group in item['Groups']:\n",
    "        service_name = group['Keys'][0]\n",
    "        cost = group['Metrics']['UnblendedCost']['Amount']\n",
    "        print(f\"{service_name}: ${cost}\")\n",
    "    print('\\n\\n\\n')"
   ]
  },
  {
   "cell_type": "code",
   "execution_count": null,
   "metadata": {},
   "outputs": [],
   "source": [
    "start_date = (datetime.now()+timedelta(days=1)).strftime('%Y-%m-%d')\n",
    "end_date = (datetime.now()+timedelta(days=31)).strftime('%Y-%m-%d')\n"
   ]
  },
  {
   "cell_type": "code",
   "execution_count": null,
   "metadata": {},
   "outputs": [],
   "source": [
    "result = client.get_cost_forecast(TimePeriod={\n",
    "    'Start':start_date,\n",
    "    'End':end_date\n",
    "},Metric='UNBLENDED_COST',Granularity='MONTHLY')"
   ]
  },
  {
   "cell_type": "code",
   "execution_count": null,
   "metadata": {},
   "outputs": [],
   "source": []
  }
 ],
 "metadata": {
  "kernelspec": {
   "display_name": "Python 3",
   "language": "python",
   "name": "python3"
  },
  "language_info": {
   "codemirror_mode": {
    "name": "ipython",
    "version": 3
   },
   "file_extension": ".py",
   "mimetype": "text/x-python",
   "name": "python",
   "nbconvert_exporter": "python",
   "pygments_lexer": "ipython3",
   "version": "3.12.3"
  }
 },
 "nbformat": 4,
 "nbformat_minor": 2
}
